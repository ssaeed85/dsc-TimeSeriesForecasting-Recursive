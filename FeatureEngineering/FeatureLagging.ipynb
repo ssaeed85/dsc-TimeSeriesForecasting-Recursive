{
 "cells": [
  {
   "cell_type": "markdown",
   "metadata": {},
   "source": [
    "# Feature Lagging"
   ]
  },
  {
   "cell_type": "markdown",
   "metadata": {},
   "source": [
    "In the realm of time series forecasting, lagged features play a pivotal role by incorporating values from preceding time steps as inputs to forecast future observations. The fundamental premise of time series analysis is the assumption that historical observations exert influence on forthcoming events.\n",
    "\n",
    "By incorporating lag features, models can capture temporal dependencies and patterns, such as seasonality and trends, inherent in the data. For instance, the sales figure of the previous month can be a strong indicator of the sales figure in the current month. Utilizing lagged features allows forecasting models to leverage this historical data, improving the accuracy and robustness of predictions. In essence, lag features bridge the gap between past events and future predictions, making them indispensable in time series forecasting. \n",
    "\n",
    "The utilization of lagged features, even in simple forecasting models, can yield surprisingly robust results by capitalizing on the temporal structure of the data."
   ]
  },
  {
   "cell_type": "code",
   "execution_count": null,
   "metadata": {},
   "outputs": [],
   "source": [
    "import pandas as pd\n",
    "import numpy as np\n",
    "\n",
    "import plotly.express as px\n",
    "\n",
    "import warnings\n",
    "warnings.filterwarnings(\"ignore\")"
   ]
  },
  {
   "cell_type": "markdown",
   "metadata": {},
   "source": [
    "### Load data"
   ]
  },
  {
   "cell_type": "code",
   "execution_count": null,
   "metadata": {},
   "outputs": [],
   "source": [
    "df = pd.read_csv('../data/train.csv')\n",
    "df['Date'] = pd.to_datetime(df['Date'])\n",
    "df.set_index('Date', inplace=True)\n",
    "\n",
    "df['store'] = df['store'].astype('category')\n",
    "df['product'] = df['product'].astype('category')\n",
    "df.head()"
   ]
  },
  {
   "cell_type": "markdown",
   "metadata": {},
   "source": [
    "<img src=\"../img/TrainingIcons/Grumpy Bear Icon.png\" alt=\"Image\" width=\"50\" height=\"50\"> Wondering what the above means? Check out the `EDA.ipynb`"
   ]
  },
  {
   "cell_type": "markdown",
   "metadata": {},
   "source": [
    "## Visualizing the lagged feature\n",
    "Imagine a simple time series, with a feature of note having values across various various timestamps. Then a lagged feature can be visualized as"
   ]
  },
  {
   "cell_type": "markdown",
   "metadata": {},
   "source": [
    "<img src=\"../img/TimeSeries_lag.png\" alt=\"Image\" width=\"600\" height=\"500\"> \n",
    "<br>\n",
    "<br>\n",
    "<img src=\"../img/TrainingIcons/Warning.png\" alt=\"Image\" width=\"80\" height=\"80\"> \n",
    "\n",
    "Note: When a feature is lagged, it will create nulls at earliest point of the lag. In the given example lag values for `2010-01-01` will not exist for both `Feature Lag 1` as well as `Feature Lag 2`. You can choose to impute (fill these values based on knowledge or a specific strategy) or drop records where nulls are created\n",
    "\n",
    "Also, be careful as to what features you're lagging and how. You don't want to accidentally attribute store 2's sales to store 1. Since they all exist in the same dataframe, this is easy to do."
   ]
  },
  {
   "cell_type": "markdown",
   "metadata": {},
   "source": [
    "## Where would you use a lag feature?\n",
    "\n",
    "In time series forecasting, lagged features can be created for both the independent features (the predictors) as well as the dependent feature(s) (the predicted values)\n",
    "\n",
    "An example of dependent feature lagging would be, for industries where a weekly pattern exists (eg: Walmart sales spikes every weekend), knowing the value of the target variable was 7 days ago, can have a high predictive power. In this example, you could potentially use units sold yesterday, last week and 4 weeks ago as predictors to predict sales that would happen on any given day\n",
    "\n",
    "<img src=\"../img/TimeSeries_TargetLag.png\" alt=\"Image\" width=\"750\" height=\"600\"> \n",
    "\n",
    "On the other hand, independent features could be lagged to account for delayed effects associated with events occuring in the past. As an example, to understand the effects of sport events, we might incorporate features to account for delayed effects\n",
    "\n",
    "\n",
    "<img src=\"../img/TimeSeries_FeatureLag.png\" alt=\"Image\" width=\"750\" height=\"150\"> "
   ]
  },
  {
   "cell_type": "markdown",
   "metadata": {},
   "source": [
    "# Implementing lag in pandas"
   ]
  },
  {
   "cell_type": "markdown",
   "metadata": {},
   "source": [
    "In `pandas`, features can be lagged using the `shift` method. To account for other `products` and `stores` existing within the same dataframe, we will group by them so as to not misattribute sales from one store onto another."
   ]
  },
  {
   "cell_type": "code",
   "execution_count": null,
   "metadata": {},
   "outputs": [],
   "source": [
    "df['lag_1'] = df.groupby(['store', 'product'])['number_sold'].shift(1)\n",
    "df"
   ]
  },
  {
   "cell_type": "markdown",
   "metadata": {},
   "source": [
    "At this point we can elect to fill in the nulls with a constant value (like say 0), impute using back fill, or drop the null records entirely. These would be done as follows."
   ]
  },
  {
   "cell_type": "code",
   "execution_count": null,
   "metadata": {},
   "outputs": [],
   "source": [
    "# Backfill fills missing values with the next non-missing value\n",
    "# Since our dataset is already sorted by date, we can use backfill to fill in the missing values\n",
    "df_new = df.bfill()\n",
    "df_new"
   ]
  },
  {
   "cell_type": "code",
   "execution_count": null,
   "metadata": {},
   "outputs": [],
   "source": [
    "df_new = df.fillna(0)\n",
    "df_new"
   ]
  },
  {
   "cell_type": "code",
   "execution_count": null,
   "metadata": {},
   "outputs": [],
   "source": [
    "df_new = df.dropna()\n",
    "df_new"
   ]
  },
  {
   "cell_type": "markdown",
   "metadata": {},
   "source": [
    "More involved strategies can be used for imputation as well"
   ]
  }
 ],
 "metadata": {
  "kernelspec": {
   "display_name": "MLEnv",
   "language": "python",
   "name": "python3"
  },
  "language_info": {
   "codemirror_mode": {
    "name": "ipython",
    "version": 3
   },
   "file_extension": ".py",
   "mimetype": "text/x-python",
   "name": "python",
   "nbconvert_exporter": "python",
   "pygments_lexer": "ipython3",
   "version": "3.12.5"
  }
 },
 "nbformat": 4,
 "nbformat_minor": 2
}
